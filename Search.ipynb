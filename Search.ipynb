{
 "cells": [
  {
   "cell_type": "markdown",
   "metadata": {},
   "source": [
    "## Naive Reverse Index\n"
   ]
  },
  {
   "cell_type": "code",
   "execution_count": 1,
   "metadata": {},
   "outputs": [],
   "source": [
    "from contextlib import closing\n",
    "from dataclasses import dataclass, field\n",
    "from nltk.corpus import stopwords\n",
    "from typing import List, Set\n",
    "import json\n",
    "import nltk\n",
    "import requests\n",
    "import itertools\n",
    "import sqlite3\n",
    "import uuid"
   ]
  },
  {
   "cell_type": "code",
   "execution_count": 2,
   "metadata": {},
   "outputs": [
    {
     "name": "stderr",
     "output_type": "stream",
     "text": [
      "[nltk_data] Downloading package punkt to /Users/j/nltk_data...\n",
      "[nltk_data]   Package punkt is already up-to-date!\n",
      "[nltk_data] Downloading package stopwords to /Users/j/nltk_data...\n",
      "[nltk_data]   Package stopwords is already up-to-date!\n"
     ]
    },
    {
     "data": {
      "text/plain": [
       "True"
      ]
     },
     "execution_count": 2,
     "metadata": {},
     "output_type": "execute_result"
    }
   ],
   "source": [
    "# https://www.nltk.org/api/nltk.tokenize.punkt.html\n",
    "nltk.download(\"punkt\")\n",
    "# https://www.nltk.org/howto/corpus.html?highlight=stopwords#word-lists-and-lexicons\n",
    "nltk.download(\"stopwords\")"
   ]
  },
  {
   "cell_type": "code",
   "execution_count": 3,
   "metadata": {},
   "outputs": [],
   "source": [
    "@dataclass\n",
    "class Document:\n",
    "    id: str\n",
    "    url: str\n",
    "    blob: bytes = field(repr=False)\n",
    "\n",
    "\n",
    "class Crawler:\n",
    "    \"\"\"Crawl and index documents into (id, url, blob)\"\"\"\n",
    "\n",
    "    def __init__(self, db_path):\n",
    "        self.db_path = db_path\n",
    "\n",
    "        create_sql = \"\"\"\n",
    "            CREATE TABLE IF NOT EXISTS docs\n",
    "                (id TEXT PRIMARY KEY, url TEXT UNIQUE, blob BLOB)\"\"\"\n",
    "\n",
    "        with closing(sqlite3.connect(self.db_path)) as conn:\n",
    "            cursor = conn.cursor()\n",
    "            cursor.execute(create_sql)\n",
    "\n",
    "    def __call__(self, url) -> Document:\n",
    "        insert_sql = \"INSERT INTO docs (id, url, blob) VALUES (?, ?, ?)\"\n",
    "        check_sql = \"SELECT id, url, blob FROM docs WHERE url = ?\"\n",
    "        blob = requests.get(url, stream=True).content\n",
    "\n",
    "        with closing(sqlite3.connect(self.db_path)) as conn:\n",
    "            cursor = conn.cursor()\n",
    "\n",
    "            exists = cursor.execute(check_sql, (url,)).fetchone()\n",
    "            if exists:\n",
    "                (id, url, blob) = exists\n",
    "                return Document(id, url, blob)\n",
    "            else:\n",
    "                doc = Document(str(uuid.uuid4()), url, blob)\n",
    "                cursor.execute(insert_sql, (doc.id, url, blob))\n",
    "                conn.commit()\n",
    "                return doc"
   ]
  },
  {
   "cell_type": "code",
   "execution_count": 4,
   "metadata": {},
   "outputs": [
    {
     "data": {
      "text/plain": [
       "[Document(id='ac9f8a49-4c70-4e0e-97cd-b0785f2a5306', url='https://blog.jabid.in'),\n",
       " Document(id='ae076f02-9e6a-4610-8d63-dc8438a666b5', url='https://blog.jabid.in/2020/02/29/track.html'),\n",
       " Document(id='c1753123-e154-423e-adfd-bb36f6b633ba', url='https://blog.jabid.in/2019/10/25/why.html'),\n",
       " Document(id='e9637117-77eb-49e7-881c-fbf797e9daa8', url='https://blog.jabid.in/2019/01/13/monzo.html'),\n",
       " Document(id='794c26f5-7a8e-412d-9f49-6064a1689b4e', url='https://blog.jabid.in/2019/05/10/amsterdam.html')]"
      ]
     },
     "execution_count": 4,
     "metadata": {},
     "output_type": "execute_result"
    }
   ],
   "source": [
    "urls = [\n",
    "    \"https://blog.jabid.in\",\n",
    "    \"https://blog.jabid.in/2020/02/29/track.html\",\n",
    "    \"https://blog.jabid.in/2019/10/25/why.html\",\n",
    "    \"https://blog.jabid.in/2019/01/13/monzo.html\",\n",
    "    \"https://blog.jabid.in/2019/05/10/amsterdam.html\",\n",
    "]\n",
    "\n",
    "crawler = Crawler(\"search.db\")\n",
    "docs = [crawler(url) for url in urls]\n",
    "docs"
   ]
  },
  {
   "cell_type": "code",
   "execution_count": 5,
   "metadata": {},
   "outputs": [],
   "source": [
    "class Tokenizer:\n",
    "    \"\"\"Tokenize a document to a list of words.\"\"\"\n",
    "\n",
    "    def __call__(self, doc) -> Set[str]:\n",
    "        text = str(doc.blob) if isinstance(doc, Document) else str(doc)\n",
    "        tokens = nltk.word_tokenize(text)\n",
    "        return set(tokens)"
   ]
  },
  {
   "cell_type": "code",
   "execution_count": 6,
   "metadata": {},
   "outputs": [],
   "source": [
    "class Indexer:\n",
    "    \"\"\"Build a reverse index from token => [documents]\"\"\"\n",
    "\n",
    "    def __init__(self, db_path, tokenizer: Tokenizer):\n",
    "        self.db_path = db_path\n",
    "        self.tokenizer = tokenizer\n",
    "\n",
    "        create_sql = \"\"\"\n",
    "            CREATE TABLE IF NOT EXISTS reverse_index\n",
    "                (token TEXT PRIMARY KEY, documents JSON)\"\"\"\n",
    "\n",
    "        with closing(sqlite3.connect(self.db_path)) as conn:\n",
    "            conn.execute(\"PRAGMA foreign_keys = ON\")\n",
    "            conn.execute(create_sql)\n",
    "            conn.commit()\n",
    "\n",
    "    def __call__(self, doc: Document):\n",
    "        tokens = self.tokenizer(doc)\n",
    "\n",
    "        select_sql = \"SELECT documents FROM reverse_index WHERE token = ?\"\n",
    "        insert_sql = \"REPLACE INTO reverse_index (token, documents) VALUES (?, json(?))\"\n",
    "\n",
    "        with closing(sqlite3.connect(self.db_path)) as conn:\n",
    "            for token in tokens:\n",
    "                result = conn.execute(select_sql, (token,)).fetchone()\n",
    "                documents = set(json.loads(result[0]) if result else [])\n",
    "                documents.add(doc.id)\n",
    "                conn.execute(insert_sql, (token, json.dumps(list(documents))))\n",
    "\n",
    "            conn.commit()"
   ]
  },
  {
   "cell_type": "code",
   "execution_count": 7,
   "metadata": {},
   "outputs": [
    {
     "data": {
      "text/plain": [
       "[None, None, None, None, None]"
      ]
     },
     "execution_count": 7,
     "metadata": {},
     "output_type": "execute_result"
    }
   ],
   "source": [
    "indexer = Indexer(\"search.db\", Tokenizer())\n",
    "[indexer(doc) for doc in docs]"
   ]
  },
  {
   "cell_type": "code",
   "execution_count": 8,
   "metadata": {},
   "outputs": [],
   "source": [
    "@dataclass\n",
    "class Result(Document):\n",
    "    score: float\n",
    "\n",
    "\n",
    "class Search:\n",
    "\n",
    "    def __init__(self, db_path, tokenizer: Tokenizer):\n",
    "        self.db = sqlite3.connect(f\"file:{db_path}?mode=ro\")\n",
    "        self.tokenizer = tokenizer\n",
    "\n",
    "    def fetch_one(self, id: str) -> Document:\n",
    "        sql = \"SELECT id, url, blob FROM docs WHERE id = ?;\"\n",
    "        exists = self.db.execute(sql, (id,)).fetchone()\n",
    "        if exists:\n",
    "            (id, url, blob) = exists\n",
    "            return Document(id, url, blob)\n",
    "        else:\n",
    "            return None\n",
    "\n",
    "    def fetch_many(self, ids: List[str] | Set[str]) -> List[Document]:\n",
    "        return [self.fetch_one(id) for id in ids]\n",
    "\n",
    "    def candidates(self, query: str):\n",
    "        \"\"\"Candidates for the query from reverse index\"\"\"\n",
    "\n",
    "        tokens = set(self.tokenizer(query)) - set(stopwords.words(\"english\"))\n",
    "\n",
    "        def one(token: str):\n",
    "            reverse_index_sql = \"select token, documents from reverse_index where token = ?\"\n",
    "            row = self.db.execute(reverse_index_sql, (token,)).fetchone()\n",
    "            ids = set(json.loads(row[1]) if row else [])\n",
    "            return self.fetch_many(ids)\n",
    "\n",
    "        # For each token, find all candidates and merge them.\n",
    "        return itertools.chain(*[one(token) for token in tokens if token])\n",
    "\n",
    "    def __call__(self, query):\n",
    "        candidates = self.candidates(query)\n",
    "\n",
    "        return list(candidates)"
   ]
  },
  {
   "cell_type": "code",
   "execution_count": 9,
   "metadata": {},
   "outputs": [
    {
     "data": {
      "text/plain": [
       "[Document(id='ac9f8a49-4c70-4e0e-97cd-b0785f2a5306', url='https://blog.jabid.in'),\n",
       " Document(id='794c26f5-7a8e-412d-9f49-6064a1689b4e', url='https://blog.jabid.in/2019/05/10/amsterdam.html')]"
      ]
     },
     "execution_count": 9,
     "metadata": {},
     "output_type": "execute_result"
    }
   ],
   "source": [
    "search = Search(\"search.db\", Tokenizer())\n",
    "query_results = search(\"amsterdam\")\n",
    "query_results"
   ]
  },
  {
   "cell_type": "markdown",
   "metadata": {},
   "source": [
    "## Ranking with 🤗 Transformers\n"
   ]
  },
  {
   "cell_type": "code",
   "execution_count": 10,
   "metadata": {},
   "outputs": [],
   "source": [
    "from transformers import pipeline"
   ]
  },
  {
   "cell_type": "code",
   "execution_count": 11,
   "metadata": {},
   "outputs": [
    {
     "data": {
      "text/plain": [
       "[{'label': 'POSITIVE', 'score': 0.9598053097724915}]"
      ]
     },
     "execution_count": 11,
     "metadata": {},
     "output_type": "execute_result"
    }
   ],
   "source": [
    "# Sentiment Analysis\n",
    "# 1. Fast enough, but not what I want for search\n",
    "# 2. Should definitely hook this up with my Obsidian notes\n",
    "\n",
    "\n",
    "classifier = pipeline(\n",
    "    \"sentiment-analysis\", model=\"distilbert/distilbert-base-uncased-finetuned-sst-2-english\", revision=\"af0f99b\"\n",
    ")\n",
    "\n",
    "classifier(\"I've been waiting for a HuggingFace course my whole life.\")"
   ]
  },
  {
   "cell_type": "code",
   "execution_count": 12,
   "metadata": {},
   "outputs": [
    {
     "data": {
      "text/plain": [
       "{'sequence': 'This is a course about the Transformers library',\n",
       " 'labels': ['education', 'business', 'politics'],\n",
       " 'scores': [0.8445975184440613, 0.11197522282600403, 0.043427180498838425]}"
      ]
     },
     "execution_count": 12,
     "metadata": {},
     "output_type": "execute_result"
    }
   ],
   "source": [
    "classifier = pipeline(\"zero-shot-classification\", model=\"facebook/bart-large-mnli\", revision=\"c626438\")\n",
    "\n",
    "classifier(\n",
    "    \"This is a course about the Transformers library\",\n",
    "    candidate_labels=[\"education\", \"politics\", \"business\"],\n",
    ")"
   ]
  },
  {
   "cell_type": "code",
   "execution_count": 13,
   "metadata": {},
   "outputs": [
    {
     "data": {
      "text/plain": [
       "{'sequence': 'b\\'<!DOCTYPE html>\\\\n<html>\\\\n  <head>\\\\n  <meta charset=\"utf-8\">\\\\n  <meta http-equiv=\"X-UA-Compatible\" content=\"chrome=1\">\\\\n  <meta name=\"viewport\" content=\"width=device-width, initial-scale=1\">\\\\n\\\\n  <title>Amsterdam, A history of the world&#39;s most liberal city \\\\xf0\\\\x9f\\\\x93\\\\x9a</title>\\\\n  <meta name=\"description\" content=\"I finished reading \\\\xe2\\\\x80\\\\x9cAmsterdam, A history of the world\\\\xe2\\\\x80\\\\x99s most liberalcity\\\\xe2\\\\x80\\\\x9d last week and absolutely loved it. 5/5 \\\\xf0\\\\x9f\\\\x8c\\\\x9f\">\\\\n\\\\n  <link rel=\"stylesheet\" href=\"https://use.fontawesome.com/releases/v5.8.2/css/all.css\" integrity=\"sha384-oS3vJWv+0UjzBfQzYUhtDYW+Pj2yciDJxpsK1OYPAYjqT085Qq/1cq5FLXAZQ7Ay\" crossorigin=\"anonymous\">\\\\n\\\\n  <link rel=\"stylesheet\" href=\"/css/main.css\">\\\\n  <link rel=\"canonical\" href=\"https://blog.jabid.in/2019/05/10/amsterdam.html\">\\\\n  <link rel=\"alternate\" type=\"application/rss+xml\" title=\"Jaseem Abid\" href=\"https://blog.jabid.in/feed.xml\">\\\\n</head>\\\\n\\\\n\\\\n  <body>\\\\n\\\\n    <div class=\"wrapper\">\\\\n      <header>\\\\n\\\\n  <a href=\"/\">\\\\n    <img class=\"me\" src=\"/images/me.jpg\" />\\\\n  </a>\\\\n\\\\n  <ul class=\"icons\">\\\\n    <li>\\\\n      <a href=\"/about.html\" title=\"About me\">\\\\n        <i class=\"fa fa-user\"></i>\\\\n      </a>\\\\n    </li>\\\\n\\\\n    <li>\\\\n      <a href=\"https://twitter.com/jaseemabid\" title=\"Twitter\">\\\\n        <i class=\"fab fa-twitter\"></i>\\\\n      </a>\\\\n    </li>\\\\n\\\\n    <li>\\\\n      <a rel=\"me\" href=\"https://bucketofcrabs.club/@jabid\", title=\"Mastodon\">\\\\n        <i class=\"fab fa-mastodon\"></i>\\\\n      </a>\\\\n    </li>\\\\n\\\\n    <li>\\\\n      <a href=\"https://github.com/jaseemabid\" title=\"Github\">\\\\n        <i class=\"fab fa-github\"></i>\\\\n      </a>\\\\n    </li>\\\\n\\\\n    <li>\\\\n      <a href=\"/feed.xml\" title=\"Subscribe to feeds\">\\\\n        <i class=\"fa fa-rss\"></i>\\\\n      </a>\\\\n    </li>\\\\n\\\\n    <li>\\\\n      <a href=\"/Jaseem Abid.pdf\" title=\"Resume\">\\\\n        <i class=\"fa fa-id-card\"></i>\\\\n      </a>\\\\n    </li>\\\\n\\\\n  </ul>\\\\n</header>\\\\n\\\\n      <section>\\\\n\\\\n        <h1>Amsterdam, A history of the world\\\\\\'s most liberal city \\\\xf0\\\\x9f\\\\x93\\\\x9a</h1>\\\\n\\\\n        <p class=\"post-meta\">\\\\n          <time datetime=\"2019-05-10T00:00:00+00:00\">\\\\n            May 10, 2019\\\\n          </time>\\\\n\\\\n        <article>\\\\n          <p>I finished reading \\\\xe2\\\\x80\\\\x9c<a href=\"https://www.goodreads.com/book/show/17288660-amsterdam\">Amsterdam, A history of the world\\\\xe2\\\\x80\\\\x99s most liberal\\\\ncity</a>\\\\xe2\\\\x80\\\\x9d last week and absolutely loved it. 5/5 \\\\xf0\\\\x9f\\\\x8c\\\\x9f</p>\\\\n\\\\n<p>The book is equally about a place, the people and an ideology it stands for -\\\\nliberalism. <em>Gedogen</em> in Dutch means <em>\\\\xe2\\\\x80\\\\x9cillegal but tolerated\\\\xe2\\\\x80\\\\x9d</em> and Amsterdam\\\\nseems to have developed this curious and unique attitude to so many social\\\\nissues. There aren\\\\xe2\\\\x80\\\\x99t so many places in the world where human rights are equally\\\\nrespected, where you can smoke weed legally, sit by the canals appreciating\\\\narchitectural marvels, bike around almost anywhere without being run over by\\\\ncars and appreciate some Rembrandt and Van Gogh in the most majestic art\\\\nmuseums. The vibe is just magical and unreal. If you are curious about why\\\\nthings are the way they are, it\\\\xe2\\\\x80\\\\x99s impossible to leave the city without getting a\\\\nfew history books and that\\\\xe2\\\\x80\\\\x99s exactly what I did at the <a href=\"https://abc.nl\">American Book\\\\nStore</a>.</p>\\\\n\\\\n<p><img src=\"/images/amsterdam/jordaan.jpg\" alt=\"Jordaan\" /></p>\\\\n\\\\n<p>The narration is beautiful. This is definitely a history book - the author\\\\ndescribes how they built a city by draining the sea and building a dam to\\\\nprevent the floods and how the <a href=\"https://en.wikipedia.org/wiki/Dutch_East_India_Company\">Dutch East India Company</a> made them\\\\nimmensely rich with trade and colonialism. We also meet real people who start\\\\nover their lives leaving behind everything and moving to unknown lands to become\\\\nearly settlers. We read about true pioneers like <a href=\"https://en.wikipedia.org/wiki/Aletta_Jacobs\">Aletta Jacobs</a> who made\\\\nremarkable progress fighting for women\\\\xe2\\\\x80\\\\x99s rights and suffrage and <a href=\"https://nl.wikipedia.org/wiki/Benno_Premsela\">Benno\\\\nPremsela</a> for gay rights. We meet celebrities like Anne Frank, Rembrandt and\\\\nSpinoza. History books can\\\\xe2\\\\x80\\\\x99t just describe a sequence of events - this one is an\\\\navalanche of emotions, people and stories you cannot forget.</p>\\\\n\\\\n<p><img src=\"/images/amsterdam/steps.jpg\" alt=\"Jordaan\" /></p>\\\\n\\\\n<p><a href=\"https://en.wikipedia.org/wiki/New_Amsterdam\">New</a> and Old Amsterdams are 2 of my favourite cities in the world and this book\\\\nmade me realize again how connected they really are. Manhattan\\\\xe2\\\\x80\\\\x99s grid layout\\\\nimpressed me more than every other human achievement combined - sending humans\\\\nto Mars looks so simple in comparison. This could be because I spent the 5 years\\\\nbefore moving to NYC in one of the world\\\\xe2\\\\x80\\\\x99s most congested cities were going from\\\\none end to the other was an unspeakable nightmare. Every single day I commuted\\\\nthe length of the island from 125 St to Canal St without it being a ceremony,\\\\nI\\\\xe2\\\\x80\\\\x99ve asked myself how NYC could do in <a href=\"https://en.wikipedia.org/wiki/Commissioners%27_Plan_of_1811\">1811</a> what India cannot do now 200 years\\\\nlater. How could some parts of the world be <em>centuries</em> ahead of others?</p>\\\\n\\\\n<p>The book describes an incident in which the English had to find a Dutch\\\\ntranslator more than 100 years after the Dutch left to negotiate a trade deal\\\\nwith the native Indian population because it was the only European language\\\\nknown to them. Somehow Manhattan\\\\xe2\\\\x80\\\\x99s grid is so obvious after Amsterdam\\\\xe2\\\\x80\\\\x99s canals.\\\\nIt might not seem like the most astonishing human achievement to you, but I had\\\\nsuch a great moment of epiphany connecting the dots.</p>\\\\n\\\\n<p>NYC and Amsterdam both evolved to becoming the most liberal and cosmopolitan\\\\ncities in the world. Both were at some point world\\\\xe2\\\\x80\\\\x99s wealthiest cities, largest\\\\nports and after opening doors to flocks of immigrants during days of prosecution\\\\nand crisis, the most diverse as well.</p>\\\\n\\\\n<p>To understand the extent of the VOC trade empire at the height of the Dutch\\\\nGolden age, we could look at this would map from 1630.</p>\\\\n\\\\n<p><a href=\"https://upload.wikimedia.org/wikipedia/commons/thumb/b/b5/Nova_totius_Terrarum_Orbis_geographica_ac_hydrographica_tabula_%28Hendrik_Hondius%29_balanced.jpg/1920px-Nova_totius_Terrarum_Orbis_geographica_ac_hydrographica_tabula_%28Hendrik_Hondius%29_balanced.jpg\" target=\"_blank\"><img src=\"https://upload.wikimedia.org/wikipedia/commons/thumb/b/b5/Nova_totius_Terrarum_Orbis_geographica_ac_hydrographica_tabula_%28Hendrik_Hondius%29_balanced.jpg/1920px-Nova_totius_Terrarum_Orbis_geographica_ac_hydrographica_tabula_%28Hendrik_Hondius%29_balanced.jpg\" alt=\"map\" /></a></p>\\\\n\\\\n<p>Just 100 years after the first European reached India via the sea, we have a map\\\\nthat looks remarkably similar to the precise GPS versions we have now. This is\\\\nbefore most of the science as we know of was invented. The company that\\\\ndominated world trade also lead to one of the <a href=\"https://en.wikipedia.org/wiki/Euronext_Amsterdam\">first stock exchanges</a> where\\\\nthe average citizen invested some of their savings to lay the foundation of\\\\nmodern capitalism.</p>\\\\n\\\\n<p>To be honest, even though I just said all that, during the short time I spent\\\\nthere I could barely find any brown people in the cafes and pubs I spent hours\\\\nreading. The Dutch were liberal, but they definitely made life in Indonesia and\\\\nother colonies hell and they waged wars all over the world including <a href=\"https://en.wikipedia.org/wiki/Travancore%E2%80%93Dutch_War\">one quite\\\\nclose to where I was born and brought up</a>. More Jews died proportionately\\\\nin Amsterdam than almost anywhere else in Europe during WW2. There was\\\\ndefinitely a time when the Catholic priests and nuns were stripped and killed\\\\nand churches desecrated. A prime minister was killed on the streets and\\\\ndecapitated. <a href=\"https://en.wikipedia.org/wiki/Refugees_of_the_Syrian_Civil_War\">Dutch Immigration laws aren\\\\xe2\\\\x80\\\\x99t great</a> compared to Germany. I\\\\ntook me 46 days to get a 45 day <a href=\"https://twitter.com/jaseemabid/status/1113789086928707584\">Schengen</a> visa.</p>\\\\n\\\\n<p><img src=\"/images/amsterdam/library.jpg\" alt=\"Jordaan\" /></p>\\\\n\\\\n<p>There is a whole lot more. A brief glimpse into the Dutch monarchy and we learn\\\\nhow closely tied every European monarchy really is. The dutch <a href=\"https://en.wikipedia.org/wiki/William_III_of_England#Invasion_of_England\">took over</a>\\\\nthe English crown once without even a war. For a while 30% of all the books\\\\npublished in world were from Amsterdam. Roots of religious tolerance and how\\\\nProtestantism replaced Roman Catholicism. There is a lot said about how NYC\\\\ninfluenced the rest of America and what it stands for. Obviously a lot about the\\\\ncanals and the tulip mania. This book made me think hard and I loved it \\\\xe2\\\\x9d\\\\xa4\\\\xef\\\\xb8\\\\x8f</p>\\\\n\\\\n\\\\n        </article>\\\\n\\\\n      <br/><br/>\\\\n      <script async defer src=\"https://www.recurse-scout.com/loader.js?t=298747a8a50ca362138e799f749fcf3f\"></script>\\\\n\\\\n      </section>\\\\n      <footer>\\\\n  <p><small>Hosted on GitHub Pages &mdash; Theme by <a href=\"https://github.com/orderedlist\">orderedlist</a></small></p>\\\\n</footer>\\\\n\\\\n  </body>\\\\n</html>\\\\n\\'',\n",
       " 'labels': ['amsterdam',\n",
       "  'business',\n",
       "  'travel',\n",
       "  'tourism',\n",
       "  'netherlands',\n",
       "  'politics',\n",
       "  'education'],\n",
       " 'scores': [0.23422285914421082,\n",
       "  0.17930321395397186,\n",
       "  0.17257077991962433,\n",
       "  0.14001625776290894,\n",
       "  0.10717426240444183,\n",
       "  0.086513951420784,\n",
       "  0.08019868284463882]}"
      ]
     },
     "execution_count": 13,
     "metadata": {},
     "output_type": "execute_result"
    }
   ],
   "source": [
    "classifier(\n",
    "    str(query_results[1].blob),\n",
    "    candidate_labels=[\"amsterdam\", \"netherlands\", \"travel\", \"tourism\", \"education\", \"politics\", \"business\"],\n",
    ")"
   ]
  }
 ],
 "metadata": {
  "kernelspec": {
   "display_name": ".venv",
   "language": "python",
   "name": "python3"
  },
  "language_info": {
   "codemirror_mode": {
    "name": "ipython",
    "version": 3
   },
   "file_extension": ".py",
   "mimetype": "text/x-python",
   "name": "python",
   "nbconvert_exporter": "python",
   "pygments_lexer": "ipython3",
   "version": "3.12.3"
  }
 },
 "nbformat": 4,
 "nbformat_minor": 2
}
