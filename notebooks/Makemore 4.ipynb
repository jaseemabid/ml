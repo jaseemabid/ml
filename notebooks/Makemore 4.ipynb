{
 "cells": [
  {
   "cell_type": "markdown",
   "metadata": {},
   "source": [
    "Backprop Ninja\n",
    "https://www.youtube.com/watch?v=q8SA3rM6ckI\n"
   ]
  },
  {
   "cell_type": "code",
   "execution_count": 1,
   "metadata": {},
   "outputs": [],
   "source": [
    "import random\n",
    "\n",
    "import matplotlib.pyplot as plt\n",
    "import torch\n",
    "import torch.nn.functional as F\n",
    "from matplotlib.colors import Normalize\n",
    "\n",
    "%matplotlib inline"
   ]
  },
  {
   "cell_type": "code",
   "execution_count": 2,
   "metadata": {},
   "outputs": [
    {
     "data": {
      "text/plain": [
       "(32033, ['emma', 'olivia', 'ava', 'isabella', 'sophia'])"
      ]
     },
     "execution_count": 2,
     "metadata": {},
     "output_type": "execute_result"
    }
   ],
   "source": [
    "# read in all the words\n",
    "words = open(\"../makemore/names.txt\", \"r\").read().splitlines()\n",
    "(len(words), words[:5])"
   ]
  },
  {
   "cell_type": "code",
   "execution_count": 3,
   "metadata": {},
   "outputs": [],
   "source": [
    "# build the vocabulary of characters and mappings to/from integers\n",
    "chars = sorted(list(set(\"\".join(words))))\n",
    "stoi = {s: i + 1 for i, s in enumerate(chars)}\n",
    "stoi[\".\"] = 0\n",
    "itos = {i: s for s, i in stoi.items()}\n",
    "vocab_size = len(itos)"
   ]
  },
  {
   "cell_type": "code",
   "execution_count": 4,
   "metadata": {},
   "outputs": [
    {
     "name": "stdout",
     "output_type": "stream",
     "text": [
      "torch.Size([182625, 3]) torch.Size([182625])\n",
      "torch.Size([22655, 3]) torch.Size([22655])\n",
      "torch.Size([22866, 3]) torch.Size([22866])\n"
     ]
    }
   ],
   "source": [
    "# build the dataset\n",
    "\n",
    "# context length: how many characters do we take to predict the next one?\n",
    "block_size = 3\n",
    "\n",
    "\n",
    "def build_dataset(words):\n",
    "    X, Y = [], []\n",
    "\n",
    "    for w in words:\n",
    "        context = [0] * block_size\n",
    "        for ch in w + \".\":\n",
    "            ix = stoi[ch]\n",
    "            X.append(context)\n",
    "            Y.append(ix)\n",
    "            context = context[1:] + [ix]  # crop and append\n",
    "\n",
    "    X = torch.tensor(X)\n",
    "    Y = torch.tensor(Y)\n",
    "    print(X.shape, Y.shape)\n",
    "    return X, Y\n",
    "\n",
    "\n",
    "random.seed(42)\n",
    "random.shuffle(words)\n",
    "n1 = int(0.8 * len(words))\n",
    "n2 = int(0.9 * len(words))\n",
    "\n",
    "Xtr, Ytr = build_dataset(words[:n1])  # 80%\n",
    "Xdev, Ydev = build_dataset(words[n1:n2])  # 10%\n",
    "Xte, Yte = build_dataset(words[n2:])  # 10%"
   ]
  },
  {
   "cell_type": "code",
   "execution_count": 5,
   "metadata": {},
   "outputs": [],
   "source": [
    "# utility function we will use later when comparing manual gradients to PyTorch gradients\n",
    "def cmp(s, dt, t, img=False):\n",
    "    ex = torch.all(dt == t.grad).item()\n",
    "    app = torch.allclose(dt, t.grad)\n",
    "    maxdiff = (dt - t.grad).abs().max().item()\n",
    "    print(f\"{s:15s} | exact: {str(ex):5s} | approx: {str(app):5s} | maxdiff: {maxdiff}\")\n",
    "\n",
    "    if img or ((not ex) and (not app)):\n",
    "        fig, (left, right) = plt.subplots(1, 2)\n",
    "\n",
    "        norm = Normalize(vmin=min(dt.min(), t.grad.min()), vmax=max(dt.max(), t.grad.max()))  # fmt: skip\n",
    "\n",
    "        left.imshow(dt.detach().numpy(), cmap=\"coolwarm\", norm=norm)\n",
    "        left.set_xlabel(\"dt\")\n",
    "\n",
    "        image = right.imshow(t.grad.detach().numpy(), cmap=\"coolwarm\", norm=norm)\n",
    "        right.set_xlabel(\"torch\")\n",
    "\n",
    "        fig.colorbar(image, ax=[left, right], orientation=\"horizontal\")\n",
    "        plt.show()"
   ]
  },
  {
   "cell_type": "code",
   "execution_count": 6,
   "metadata": {},
   "outputs": [
    {
     "name": "stdout",
     "output_type": "stream",
     "text": [
      "4137\n"
     ]
    }
   ],
   "source": [
    "n_embed = 10  # the dimensionality of the character embedding vectors\n",
    "n_hidden = 64  # the number of neurons in the hidden layer of the MLP\n",
    "\n",
    "g = torch.Generator().manual_seed(2147483647)  # for reproducibility\n",
    "C = torch.randn((vocab_size, n_embed), generator=g)\n",
    "# Layer 1\n",
    "W1 = (\n",
    "    torch.randn((n_embed * block_size, n_hidden), generator=g)\n",
    "    * (5 / 3)\n",
    "    / ((n_embed * block_size) ** 0.5)\n",
    ")\n",
    "# using b1 just for fun, it's useless because of BN\n",
    "b1 = torch.randn(n_hidden, generator=g) * 0.1\n",
    "# Layer 2\n",
    "W2 = torch.randn((n_hidden, vocab_size), generator=g) * 0.1\n",
    "b2 = torch.randn(vocab_size, generator=g) * 0.1\n",
    "# BatchNorm parameters\n",
    "bngain = torch.randn((1, n_hidden)) * 0.1 + 1.0\n",
    "bnbias = torch.randn((1, n_hidden)) * 0.1\n",
    "\n",
    "# Note: I am initializing many of these parameters in non-standard ways\n",
    "# because sometimes initializing with e.g. all zeros could mask an incorrect\n",
    "# implementation of the backward pass.\n",
    "\n",
    "parameters = [C, W1, b1, W2, b2, bngain, bnbias]\n",
    "print(sum(p.nelement() for p in parameters))  # number of parameters in total\n",
    "for p in parameters:\n",
    "    p.requires_grad = True"
   ]
  },
  {
   "cell_type": "code",
   "execution_count": 7,
   "metadata": {},
   "outputs": [],
   "source": [
    "batch_size = 32\n",
    "n = batch_size  # a shorter variable also, for convenience\n",
    "# construct a minibatch\n",
    "ix = torch.randint(0, Xtr.shape[0], (batch_size,), generator=g)\n",
    "Xb, Yb = Xtr[ix], Ytr[ix]  # batch X,Y"
   ]
  },
  {
   "cell_type": "code",
   "execution_count": 8,
   "metadata": {},
   "outputs": [
    {
     "data": {
      "text/plain": [
       "tensor(3.3451, grad_fn=<NegBackward0>)"
      ]
     },
     "execution_count": 8,
     "metadata": {},
     "output_type": "execute_result"
    }
   ],
   "source": [
    "# forward pass, \"chunked\" into smaller steps that are possible to backward one at a time\n",
    "\n",
    "emb = C[Xb]  # embed the characters into vectors\n",
    "embcat = emb.view(emb.shape[0], -1)  # concatenate the vectors\n",
    "# Linear layer 1\n",
    "hprebn = embcat @ W1 + b1  # hidden layer pre-activation\n",
    "# BatchNorm layer\n",
    "bnmeani = 1 / n * hprebn.sum(0, keepdim=True)\n",
    "bndiff = hprebn - bnmeani\n",
    "bndiff2 = bndiff**2\n",
    "# note: Bessel's correction (dividing by n-1, not n)\n",
    "bnvar = 1 / (n - 1) * (bndiff2).sum(0, keepdim=True)\n",
    "bnvar_inv = (bnvar + 1e-5) ** -0.5\n",
    "bnraw = bndiff * bnvar_inv\n",
    "hpreact = bngain * bnraw + bnbias\n",
    "# Non-linearity\n",
    "h = torch.tanh(hpreact)  # hidden layer\n",
    "# Linear layer 2\n",
    "logits = h @ W2 + b2  # output layer\n",
    "# cross entropy loss (same as F.cross_entropy(logits, Yb))\n",
    "logit_maxes = logits.max(1, keepdim=True).values\n",
    "norm_logits = logits - logit_maxes  # subtract max for numerical stability\n",
    "counts = norm_logits.exp()\n",
    "counts_sum = counts.sum(1, keepdims=True)  # type: ignore\n",
    "# if I use (1.0 / counts_sum) instead then I can't get backprop to be bit exact...\n",
    "counts_sum_inv = counts_sum**-1\n",
    "probs = counts * counts_sum_inv\n",
    "logprobs = probs.log()\n",
    "loss = -logprobs[range(n), Yb].mean()\n",
    "\n",
    "# PyTorch backward pass\n",
    "for p in parameters:\n",
    "    p.grad = None\n",
    "for t in [logprobs, probs, counts, counts_sum, counts_sum_inv,  # afaik there is no cleaner way\n",
    "    norm_logits, logit_maxes, logits, h, hpreact, bnraw, bnvar_inv, bnvar, bndiff2,\n",
    "    bndiff, hprebn, bnmeani, embcat, emb]:  # fmt: skip\n",
    "    t.retain_grad()\n",
    "loss.backward()\n",
    "loss"
   ]
  },
  {
   "cell_type": "code",
   "execution_count": 9,
   "metadata": {},
   "outputs": [],
   "source": [
    "# ** Solutions **\n",
    "\n",
    "# Derivative of a mean is 1/n\n",
    "dlogprobs = torch.zeros_like(logprobs)\n",
    "dlogprobs[range(n), Yb] = -1 / n\n",
    "\n",
    "# NOTE dlogprobs contains zeros, so dprobs contains a lot of nan's (1/0)\n",
    "# Not sure if this is an issue (harder to debug?) or if I should set the grads\n",
    "# to 0 explicitly instead\n",
    "dprobs = (1 / probs) * dlogprobs\n",
    "\n",
    "# NOTE: Broadcasting\n",
    "dcounts_sum_inv = (counts * dprobs).sum(1, keepdims=True)\n",
    "dcounts_1 = counts_sum_inv * dprobs  # Branch 1\n",
    "\n",
    "# d(1/x) = -1/x²\n",
    "dcounts_sum = (-1 / (counts_sum**2)) * dcounts_sum_inv\n",
    "\n",
    "# counts.sum(1, keepdims=True) is just forwarding the gradients\n",
    "dcounts_2 = torch.ones_like(counts) * dcounts_sum  # Branch 2\n",
    "dcounts = dcounts_1 + dcounts_2\n",
    "\n",
    "# d/dx e^x = e^x\n",
    "dnorm_logits = norm_logits.exp() * dcounts\n",
    "\n",
    "dlogits_1 = dnorm_logits.clone()\n",
    "# NOTE 1: Broadcasting rules requires the sum\n",
    "\n",
    "# NOTE 2: This should be exactly 0 but only very close to zero here due to\n",
    "# floating point nuances. The max value is subtracted only for numerical\n",
    "# stability and should have *NO IMPACT* on the loss. The mean here is ~4.72e-10\n",
    "dlogit_maxes = (-dnorm_logits).sum(1, keepdim=True)\n",
    "\n",
    "# Not sure I completely understand this backprop here. The values are so close\n",
    "# to zero it doesn't matter anyway.\n",
    "dlogits_2 = F.one_hot(logits.max(1).indices, num_classes=logits.shape[1]) * dlogit_maxes\n",
    "\n",
    "dlogits = dlogits_1 + dlogits_2\n",
    "\n",
    "dh = dlogits @ W2.T\n",
    "dW2 = h.T @ dlogits\n",
    "db2 = dlogits.sum(0)\n",
    "\n",
    "dhpreact = (1.0 - h**2) * dh\n",
    "\n",
    "dbngain = (bnraw * dhpreact).sum(0, keepdim=True)\n",
    "dbnraw = bngain * dhpreact\n",
    "dbnbias = dhpreact.sum(0, keepdim=True)\n",
    "\n",
    "dbndiff = bnvar_inv * dbnraw\n",
    "dbnvar_inv = (bndiff * dbnraw).sum(0, keepdim=True)\n",
    "dbnvar = (-0.5 * (bnvar + 1e-5) ** -1.5) * dbnvar_inv\n",
    "dbndiff2 = (1.0 / (n - 1)) * torch.ones_like(bndiff2) * dbnvar\n",
    "dbndiff += (2 * bndiff) * dbndiff2\n",
    "dhprebn = dbndiff.clone()\n",
    "dbnmeani = (-dbndiff).sum(0)\n",
    "dhprebn += 1.0 / n * (torch.ones_like(hprebn) * dbnmeani)\n",
    "dembcat = dhprebn @ W1.T\n",
    "dW1 = embcat.T @ dhprebn\n",
    "db1 = dhprebn.sum(0)\n",
    "demb = dembcat.view(emb.shape)\n",
    "\n",
    "dC = torch.zeros_like(C)\n",
    "for k in range(Xb.shape[0]):\n",
    "    for j in range(Xb.shape[1]):\n",
    "        ix = Xb[k, j]\n",
    "        dC[ix] += demb[k, j]"
   ]
  },
  {
   "cell_type": "code",
   "execution_count": 10,
   "metadata": {},
   "outputs": [
    {
     "name": "stdout",
     "output_type": "stream",
     "text": [
      "logprobs        | exact: True  | approx: True  | maxdiff: 0.0\n",
      "probs           | exact: True  | approx: True  | maxdiff: 0.0\n",
      "counts_sum_inv  | exact: True  | approx: True  | maxdiff: 0.0\n",
      "counts_sum      | exact: True  | approx: True  | maxdiff: 0.0\n",
      "counts          | exact: True  | approx: True  | maxdiff: 0.0\n",
      "norm_logits     | exact: True  | approx: True  | maxdiff: 0.0\n",
      "logit_maxes     | exact: True  | approx: True  | maxdiff: 0.0\n",
      "logit_maxes     | exact: False | approx: True  | maxdiff: 5.587935447692871e-09\n",
      "logits          | exact: True  | approx: True  | maxdiff: 0.0\n",
      "h               | exact: True  | approx: True  | maxdiff: 0.0\n",
      "W2              | exact: True  | approx: True  | maxdiff: 0.0\n",
      "b2              | exact: True  | approx: True  | maxdiff: 0.0\n",
      "hpreact         | exact: True  | approx: True  | maxdiff: 0.0\n",
      "bngain          | exact: True  | approx: True  | maxdiff: 0.0\n",
      "bnbias          | exact: True  | approx: True  | maxdiff: 0.0\n",
      "bnraw           | exact: True  | approx: True  | maxdiff: 0.0\n",
      "bnvar_inv       | exact: True  | approx: True  | maxdiff: 0.0\n",
      "bnvar           | exact: True  | approx: True  | maxdiff: 0.0\n",
      "bndiff2         | exact: True  | approx: True  | maxdiff: 0.0\n",
      "bndiff          | exact: True  | approx: True  | maxdiff: 0.0\n",
      "bnmeani         | exact: True  | approx: True  | maxdiff: 0.0\n",
      "hprebn          | exact: True  | approx: True  | maxdiff: 0.0\n",
      "embcat          | exact: True  | approx: True  | maxdiff: 0.0\n",
      "W1              | exact: True  | approx: True  | maxdiff: 0.0\n",
      "b1              | exact: True  | approx: True  | maxdiff: 0.0\n",
      "emb             | exact: True  | approx: True  | maxdiff: 0.0\n",
      "C               | exact: True  | approx: True  | maxdiff: 0.0\n"
     ]
    }
   ],
   "source": [
    "# Exercise 1: backprop through the whole thing manually,\n",
    "# back propagating through exactly all of the variables\n",
    "# as they are defined in the forward pass above, one by one\n",
    "\n",
    "# -----------------\n",
    "# YOUR CODE HERE :)\n",
    "# -----------------\n",
    "\n",
    "cmp(\"logprobs\", dlogprobs, logprobs)\n",
    "cmp(\"probs\", dprobs, probs)\n",
    "cmp(\"counts_sum_inv\", dcounts_sum_inv, counts_sum_inv)\n",
    "cmp(\"counts_sum\", dcounts_sum, counts_sum)\n",
    "cmp(\"counts\", dcounts, counts)\n",
    "cmp(\"norm_logits\", dnorm_logits, norm_logits)\n",
    "# Option 1: Exactly equal\n",
    "cmp(\"logit_maxes\", dlogit_maxes, logit_maxes)\n",
    "# Option 2: Approx equal mathematically. Semantically correct.\n",
    "cmp(\"logit_maxes\", torch.zeros_like(logit_maxes), logit_maxes, img=False)\n",
    "cmp(\"logits\", dlogits, logits)\n",
    "cmp(\"h\", dh, h)\n",
    "cmp(\"W2\", dW2, W2)\n",
    "cmp(\"b2\", db2, b2)  # Can't render (27,)\n",
    "cmp(\"hpreact\", dhpreact, hpreact)\n",
    "cmp(\"bngain\", dbngain, bngain)\n",
    "cmp(\"bnbias\", dbnbias, bnbias)\n",
    "cmp(\"bnraw\", dbnraw, bnraw)\n",
    "cmp(\"bnvar_inv\", dbnvar_inv, bnvar_inv)\n",
    "cmp(\"bnvar\", dbnvar, bnvar)\n",
    "cmp(\"bndiff2\", dbndiff2, bndiff2)\n",
    "cmp(\"bndiff\", dbndiff, bndiff)\n",
    "cmp(\"bnmeani\", dbnmeani, bnmeani)\n",
    "cmp(\"hprebn\", dhprebn, hprebn)\n",
    "cmp(\"embcat\", dembcat, embcat)\n",
    "cmp(\"W1\", dW1, W1)\n",
    "cmp(\"b1\", db1, b1)\n",
    "cmp(\"emb\", demb, emb)\n",
    "cmp(\"C\", dC, C)"
   ]
  }
 ],
 "metadata": {
  "kernelspec": {
   "display_name": ".venv",
   "language": "python",
   "name": "python3"
  },
  "language_info": {
   "codemirror_mode": {
    "name": "ipython",
    "version": 3
   },
   "file_extension": ".py",
   "mimetype": "text/x-python",
   "name": "python",
   "nbconvert_exporter": "python",
   "pygments_lexer": "ipython3",
   "version": "3.12.4"
  }
 },
 "nbformat": 4,
 "nbformat_minor": 2
}
