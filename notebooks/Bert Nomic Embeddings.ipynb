{
 "cells": [
  {
   "cell_type": "code",
   "execution_count": 1,
   "metadata": {},
   "outputs": [],
   "source": [
    "import ollama\n",
    "import chromadb\n",
    "import os\n",
    "import ollama\n",
    "from bertopic import BERTopic\n",
    "import itertools\n",
    "from dataclasses import dataclass\n",
    "from collections.abc import Generator"
   ]
  },
  {
   "cell_type": "code",
   "execution_count": 2,
   "metadata": {},
   "outputs": [],
   "source": [
    "# MODEL = \"llama3.2:1b nomic-embed-text\"\n",
    "MODEL = \"nomic-embed-text:latest\""
   ]
  },
  {
   "cell_type": "code",
   "execution_count": 3,
   "metadata": {},
   "outputs": [],
   "source": [
    "@dataclass\n",
    "class Doc:\n",
    "    id: int\n",
    "    name: str\n",
    "    path: str\n",
    "    contents: str"
   ]
  },
  {
   "cell_type": "code",
   "execution_count": 4,
   "metadata": {},
   "outputs": [],
   "source": [
    "def read_md_files(directory: str) -> Generator[Doc]:\n",
    "    ignore = {\".trash\", \".archive\", \".obsidian\"}\n",
    "    counter = itertools.count()\n",
    "\n",
    "    for root, _, files in os.walk(directory):\n",
    "        if not any(i in root for i in ignore):\n",
    "            for file in files:\n",
    "                if file.endswith(\".md\") and (not root.startswith(\".\")):\n",
    "                    path = os.path.join(root, file)\n",
    "                    with open(path, \"r\") as f:\n",
    "                        if (contents := f.read().strip()) != \"\":\n",
    "                            yield Doc(str(next(counter)), file, path, contents)\n",
    "\n",
    "\n",
    "def generate_embeddings(docs: list[Doc]) -> list[float]:\n",
    "    return ollama.embed(model=MODEL, input=[d.contents for d in docs]).embeddings"
   ]
  },
  {
   "cell_type": "code",
   "execution_count": 5,
   "metadata": {},
   "outputs": [
    {
     "data": {
      "text/plain": [
       "1060"
      ]
     },
     "execution_count": 5,
     "metadata": {},
     "output_type": "execute_result"
    }
   ],
   "source": [
    "docs = list(read_md_files(\"/Users/j/Notes\"))\n",
    "len(docs)"
   ]
  },
  {
   "cell_type": "code",
   "execution_count": 6,
   "metadata": {},
   "outputs": [
    {
     "data": {
      "text/plain": [
       "1060"
      ]
     },
     "execution_count": 6,
     "metadata": {},
     "output_type": "execute_result"
    }
   ],
   "source": [
    "embeddings = generate_embeddings(docs)\n",
    "len(embeddings)"
   ]
  },
  {
   "cell_type": "code",
   "execution_count": 7,
   "metadata": {},
   "outputs": [],
   "source": [
    "client = chromadb.Client()\n",
    "\n",
    "try:\n",
    "    client.delete_collection(\"docs\")\n",
    "except ValueError:\n",
    "    pass\n",
    "\n",
    "collection = client.create_collection(name=\"docs\")"
   ]
  },
  {
   "cell_type": "code",
   "execution_count": 8,
   "metadata": {},
   "outputs": [],
   "source": [
    "collection.add(\n",
    "    ids=[d.id for d in docs],\n",
    "    embeddings=embeddings,\n",
    "    documents=[f\"{d.path}\\n{d.contents}\" for d in docs],\n",
    ")"
   ]
  },
  {
   "cell_type": "code",
   "execution_count": 9,
   "metadata": {},
   "outputs": [],
   "source": [
    "assert collection.count() == len(embeddings)"
   ]
  },
  {
   "cell_type": "code",
   "execution_count": 10,
   "metadata": {},
   "outputs": [
    {
     "data": {
      "text/plain": [
       "1059"
      ]
     },
     "execution_count": 10,
     "metadata": {},
     "output_type": "execute_result"
    }
   ],
   "source": [
    "len(set(tuple(e) for e in embeddings))"
   ]
  },
  {
   "cell_type": "code",
   "execution_count": 11,
   "metadata": {},
   "outputs": [
    {
     "name": "stdout",
     "output_type": "stream",
     "text": [
      "[[0.7730928659439087, 0.8901185989379883, 0.8913306593894958]] \n",
      "\n"
     ]
    }
   ],
   "source": [
    "def qq(input: str, n_results: int = 1):\n",
    "    r = ollama.embed(MODEL, input)\n",
    "    assert len(r.embeddings) == 1  # One question, one response\n",
    "    results = collection.query(r.embeddings, n_results=n_results)\n",
    "    print(results[\"distances\"], \"\\n\")\n",
    "    return results\n",
    "\n",
    "\n",
    "r = qq(\"Hello world\", 3)\n",
    "\n",
    "# for d in r[\"documents\"][0]:\n",
    "#     print(f\"{d[0:200]} \\n\")"
   ]
  }
 ],
 "metadata": {
  "kernelspec": {
   "display_name": ".venv",
   "language": "python",
   "name": "python3"
  },
  "language_info": {
   "codemirror_mode": {
    "name": "ipython",
    "version": 3
   },
   "file_extension": ".py",
   "mimetype": "text/x-python",
   "name": "python",
   "nbconvert_exporter": "python",
   "pygments_lexer": "ipython3",
   "version": "3.12.0"
  }
 },
 "nbformat": 4,
 "nbformat_minor": 2
}
