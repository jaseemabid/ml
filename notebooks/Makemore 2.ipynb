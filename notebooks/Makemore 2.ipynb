{
 "cells": [
  {
   "cell_type": "markdown",
   "metadata": {},
   "source": [
    "**Ngrams with Neural Nets**\n"
   ]
  },
  {
   "cell_type": "code",
   "execution_count": 1,
   "metadata": {},
   "outputs": [],
   "source": [
    "import torch\n",
    "import torch.nn.functional as F\n",
    "import matplotlib.pyplot as plt\n",
    "\n",
    "%matplotlib inline"
   ]
  },
  {
   "cell_type": "code",
   "execution_count": 2,
   "metadata": {},
   "outputs": [
    {
     "data": {
      "text/plain": [
       "['emma', 'olivia', 'ava']"
      ]
     },
     "execution_count": 2,
     "metadata": {},
     "output_type": "execute_result"
    }
   ],
   "source": [
    "words = open(\"../makemore/names.txt\", \"r\").read().splitlines()\n",
    "words[0:3]"
   ]
  },
  {
   "cell_type": "code",
   "execution_count": 3,
   "metadata": {},
   "outputs": [],
   "source": [
    "# Build vocabulary and mappings\n",
    "chars = sorted(list(set(\"\".join(words))))\n",
    "stoi = {c: i + 1 for i, c in enumerate(chars)}\n",
    "stoi[\".\"] = 0\n",
    "itos = {c: i for i, c in stoi.items()}"
   ]
  },
  {
   "cell_type": "code",
   "execution_count": 4,
   "metadata": {},
   "outputs": [],
   "source": [
    "# Build dataset\n",
    "\n",
    "block_size = 3  # Number of characters to look back.\n",
    "X, Y = [], []\n",
    "\n",
    "for w in words:\n",
    "    # print(f\"{w=}\")\n",
    "\n",
    "    context = [0] * block_size\n",
    "    for ch in w + \".\":\n",
    "        ix = stoi[ch]\n",
    "        X.append(context)\n",
    "        Y.append(ix)\n",
    "        # print(f\"{\"\".join([itos[i] for i in context])} ---> {itos[ix]}\")\n",
    "        context = context[1:] + [ix]  # Crop and append\n",
    "\n",
    "X = torch.tensor(X)\n",
    "Y = torch.tensor(Y)"
   ]
  },
  {
   "cell_type": "code",
   "execution_count": 5,
   "metadata": {},
   "outputs": [
    {
     "name": "stdout",
     "output_type": "stream",
     "text": [
      "torch.Size([228146, 3]) torch.Size([228146])\n",
      "Example tensor([ 5, 13, 13]) => 1\n"
     ]
    }
   ],
   "source": [
    "# Each example is an input vector of size 3 and a label of 1 index.\n",
    "# First 5 words produce 32 examples\n",
    "\n",
    "print(X.shape, Y.shape)\n",
    "print(f\"Example {X[3]} => {Y[3]}\")"
   ]
  },
  {
   "cell_type": "code",
   "execution_count": 6,
   "metadata": {},
   "outputs": [],
   "source": [
    "# Hyper Parameters\n",
    "CONTEXT = 3  # Context window\n",
    "VOCAB = 27  # Size of vocab\n",
    "EMBED = 2  # Size of embedding vector\n",
    "L1 = 100  # Size of hidden layer\n",
    "MSIZE = 32  # Size of mini batch"
   ]
  },
  {
   "cell_type": "code",
   "execution_count": 7,
   "metadata": {},
   "outputs": [
    {
     "data": {
      "text/plain": [
       "228146"
      ]
     },
     "execution_count": 7,
     "metadata": {},
     "output_type": "execute_result"
    }
   ],
   "source": [
    "X.shape[0]  # Number of examples"
   ]
  },
  {
   "cell_type": "code",
   "execution_count": 8,
   "metadata": {},
   "outputs": [],
   "source": [
    "g = torch.Generator().manual_seed(2147483647)\n",
    "\n",
    "# Embedding table C. 27 tokens, each embedding only 2 dimensions long.\n",
    "C = torch.randn((VOCAB, EMBED), requires_grad=True, generator=g)\n",
    "\n",
    "# Hidden layer. Each neuron connected to weights in concatenated input embedding\n",
    "W1 = torch.randn((CONTEXT * EMBED, L1), requires_grad=True, generator=g)\n",
    "b1 = torch.randn(L1, requires_grad=True, generator=g)\n",
    "\n",
    "# Output layer. Inputs match the output of previous layer. One output for each word in vocab\n",
    "W2 = torch.randn((L1, VOCAB), requires_grad=True, generator=g)\n",
    "b2 = torch.randn(VOCAB, requires_grad=True, generator=g)\n",
    "\n",
    "parameters = [C, W1, b1, W2, b2]"
   ]
  },
  {
   "cell_type": "code",
   "execution_count": 9,
   "metadata": {},
   "outputs": [
    {
     "data": {
      "text/plain": [
       "3481"
      ]
     },
     "execution_count": 9,
     "metadata": {},
     "output_type": "execute_result"
    }
   ],
   "source": [
    "sum(p.nelement() for p in parameters)  # Number of parameters in total"
   ]
  },
  {
   "cell_type": "code",
   "execution_count": 10,
   "metadata": {},
   "outputs": [],
   "source": [
    "losses = []\n",
    "steps = []"
   ]
  },
  {
   "cell_type": "code",
   "execution_count": 11,
   "metadata": {},
   "outputs": [],
   "source": [
    "for i in range(200000):\n",
    "    # ** Mini batch ***\n",
    "    ix = torch.randint(0, X.shape[0], (MSIZE,))  # generator=g ?\n",
    "\n",
    "    # ** Forward Pass **\n",
    "\n",
    "    # emb maps each input to corresponding embedding vector\n",
    "    emb = C[X[ix]]  # 🏆 👏, Good job there PyTorch.\n",
    "\n",
    "    assert emb.shape == (MSIZE, CONTEXT, EMBED)\n",
    "\n",
    "    # Output from hidden layer\n",
    "    h = torch.tanh(emb.view(-1, CONTEXT * EMBED) @ W1 + b1)\n",
    "\n",
    "    # Output layer + Softmax\n",
    "    logits = h @ W2 + b2\n",
    "\n",
    "    # Pluck out the right label from each vector and map to output\n",
    "    loss = F.cross_entropy(logits, Y[ix])\n",
    "    # print(loss.item())\n",
    "    losses.append(loss.item())\n",
    "\n",
    "    # ** Backward Pass **\n",
    "    for p in parameters:\n",
    "        p.grad = None\n",
    "\n",
    "    loss.backward()\n",
    "\n",
    "    lr = 0.1 if i < 100000 else 0.01\n",
    "    for p in parameters:\n",
    "        p.data += -lr * p.grad\n",
    "\n",
    "    steps.append(i)\n",
    "    losses.append(loss.log10().item())"
   ]
  },
  {
   "cell_type": "code",
   "execution_count": 12,
   "metadata": {},
   "outputs": [
    {
     "data": {
      "text/plain": [
       "Text(0.5, 0, 'start=18.5842, end=0.4474')"
      ]
     },
     "execution_count": 12,
     "metadata": {},
     "output_type": "execute_result"
    },
    {
     "data": {
      "image/png": "[encoded data removed]",
      "text/plain": [
       "<Figure size 640x480 with 1 Axes>"
      ]
     },
     "metadata": {},
     "output_type": "display_data"
    }
   ],
   "source": [
    "plt.plot(losses)\n",
    "plt.xlabel(\"Steps\")\n",
    "plt.ylabel(\"Loss\")\n",
    "plt.title(\"Training with mini batches\")\n",
    "plt.xlabel(f\"start={losses[0]:.4f}, end={losses[-1]:.4f}\")"
   ]
  },
  {
   "cell_type": "code",
   "execution_count": 13,
   "metadata": {},
   "outputs": [
    {
     "name": "stdout",
     "output_type": "stream",
     "text": [
      "carpahratelle.\n",
      "khi.\n",
      "miri.\n",
      "thiyahnanden.\n",
      "jazhite.\n",
      "dellaha.\n",
      "kaquian.\n",
      "kania.\n",
      "chaiah.\n",
      "kaleigph.\n",
      "bmondin.\n",
      "quint.\n",
      "sroilea.\n",
      "jadbi.\n",
      "wazerogiearyxikakae.\n",
      "piura.\n",
      "med.\n",
      "edi.\n",
      "abetteley.\n",
      "fra.\n"
     ]
    }
   ],
   "source": [
    "# sample from the model\n",
    "g = torch.Generator().manual_seed(2147483647 + 10)\n",
    "\n",
    "for _ in range(20):\n",
    "    out = []\n",
    "    context = [0] * block_size  # initialize with all ...\n",
    "    while True:\n",
    "        emb = C[torch.tensor([context])]  # (1,block_size,d)\n",
    "        h = torch.tanh(emb.view(1, -1) @ W1 + b1)\n",
    "        logits = h @ W2 + b2\n",
    "        probs = F.softmax(logits, dim=1)\n",
    "        ix = torch.multinomial(probs, num_samples=1, generator=g).item()\n",
    "        context = context[1:] + [ix]\n",
    "        out.append(ix)\n",
    "        if ix == 0:\n",
    "            break\n",
    "\n",
    "    print(\"\".join(itos[i] for i in out))"
   ]
  }
 ],
 "metadata": {
  "kernelspec": {
   "display_name": ".venv",
   "language": "python",
   "name": "python3"
  },
  "language_info": {
   "codemirror_mode": {
    "name": "ipython",
    "version": 3
   },
   "file_extension": ".py",
   "mimetype": "text/x-python",
   "name": "python",
   "nbconvert_exporter": "python",
   "pygments_lexer": "ipython3",
   "version": "3.12.3"
  }
 },
 "nbformat": 4,
 "nbformat_minor": 2
}
