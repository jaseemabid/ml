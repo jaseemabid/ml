{
 "cells": [
  {
   "cell_type": "code",
   "execution_count": 1,
   "metadata": {},
   "outputs": [],
   "source": [
    "import matplotlib.pyplot as plt\n",
    "import numpy as np\n",
    "import torch\n",
    "import torch.nn as nn\n",
    "from torch.nn import functional as F"
   ]
  },
  {
   "cell_type": "markdown",
   "metadata": {},
   "source": [
    "### Data wrangling\n"
   ]
  },
  {
   "cell_type": "code",
   "execution_count": 2,
   "metadata": {},
   "outputs": [
    {
     "data": {
      "text/plain": [
       "{'data': torch.Size([1115394]),\n",
       " 'train': torch.Size([1003854]),\n",
       " 'validation': torch.Size([111540]),\n",
       " 'sample': tensor([18, 47, 56, 57, 58,  1, 15, 47, 58, 47])}"
      ]
     },
     "execution_count": 2,
     "metadata": {},
     "output_type": "execute_result"
    }
   ],
   "source": [
    "with open(\"../data/tinyshakespeare.txt\", \"r\") as f:\n",
    "    text = f.read()\n",
    "\n",
    "# here are all the unique characters that occur in this text\n",
    "chars = sorted(list(set(text)))\n",
    "vocab_size = len(chars)\n",
    "# create a mapping from characters to integers\n",
    "stoi = {ch: i for i, ch in enumerate(chars)}\n",
    "itos = {i: ch for i, ch in enumerate(chars)}\n",
    "\n",
    "\n",
    "# encoder: take a string, output a list of integers\n",
    "def encode(s):\n",
    "    return [stoi[c] for c in s]\n",
    "\n",
    "\n",
    "# decoder: take a list of integers, output a string\n",
    "def decode(l):\n",
    "    return \"\".join([itos[i] for i in l])\n",
    "\n",
    "\n",
    "data = torch.tensor(encode(text), dtype=torch.long)\n",
    "\n",
    "n = int(0.9 * data.nelement())\n",
    "train_data = data[:n]\n",
    "val_data = data[n:]\n",
    "\n",
    "\n",
    "{\n",
    "    \"data\": data.shape,\n",
    "    \"train\": train_data.shape,\n",
    "    \"validation\": val_data.shape,\n",
    "    \"sample\": data[:10],\n",
    "}"
   ]
  },
  {
   "cell_type": "code",
   "execution_count": 3,
   "metadata": {},
   "outputs": [],
   "source": [
    "batch_size = 32  # How many independent sequences will we process in parallel?\n",
    "block_size = 8  # What is the maximum context length for predictions?\n",
    "n_embed = 32  # Size of embeddings\n",
    "max_steps = 10_000  # Learning\n",
    "lr = 1e-3  # Learning rate"
   ]
  },
  {
   "cell_type": "code",
   "execution_count": 4,
   "metadata": {},
   "outputs": [],
   "source": [
    "torch.manual_seed(1337)\n",
    "\n",
    "\n",
    "def get_batch(split):\n",
    "    # generate a small batch of data of inputs x and targets y\n",
    "    data = train_data if split == \"train\" else val_data\n",
    "    ix = torch.randint(len(data) - block_size, (batch_size,))\n",
    "    x = torch.stack([data[i : i + block_size] for i in ix])\n",
    "    y = torch.stack([data[i + 1 : i + block_size + 1] for i in ix])\n",
    "    return x, y"
   ]
  },
  {
   "cell_type": "markdown",
   "metadata": {},
   "source": [
    "### Neural Net\n"
   ]
  },
  {
   "cell_type": "code",
   "execution_count": 5,
   "metadata": {},
   "outputs": [],
   "source": [
    "class Head(nn.Module):\n",
    "    def __init__(self, head_size):\n",
    "        super().__init__()\n",
    "\n",
    "        self.key = nn.Linear(in_features=n_embed, out_features=head_size, bias=False)\n",
    "        self.query = nn.Linear(in_features=n_embed, out_features=head_size, bias=False)\n",
    "        self.value = nn.Linear(in_features=n_embed, out_features=head_size, bias=False)\n",
    "\n",
    "        self.register_buffer(\"tril\", torch.tril(torch.ones(block_size, block_size)))\n",
    "\n",
    "    def forward(self, x):\n",
    "        B, T, C = x.shape\n",
    "\n",
    "        k = self.key(x)  # (B, T, C)\n",
    "        q = self.query(x)  # (B, T, C)\n",
    "\n",
    "        # Compute attention scores (affinities)\n",
    "        wei = q @ k.transpose(-2, -1) * C**-0.5  # (B, T, C) @ (B, C, T) → (B, T, T)\n",
    "        wei = wei.masked_fill(self.tril[:T, :T] == 0, float(\"-inf\"))  # (B, T, T)\n",
    "        wei = F.softmax(wei, dim=-1)  # (B, T, T)\n",
    "\n",
    "        # Weighted aggregation of values\n",
    "        v = self.value(x)  # (B, T, C)\n",
    "        out = wei @ v  # (B, T, T) @ (B, T, C) => (B, T, C)\n",
    "        return out\n",
    "\n",
    "\n",
    "class MultiHeadAttention(nn.Module):\n",
    "    def __init__(self, num_heads, head_size):\n",
    "        super().__init__()\n",
    "        self.heads = nn.ModuleList([Head(head_size) for _ in range(num_heads)])\n",
    "        self.proj = nn.Linear(n_embed, n_embed)\n",
    "\n",
    "    def forward(self, x):\n",
    "        out = torch.cat([h(x) for h in self.heads], dim=-1)\n",
    "        return self.proj(out)\n",
    "\n",
    "\n",
    "class FeedForward(nn.Module):\n",
    "    \"A simple linear layer followed by a non linearity\"\n",
    "\n",
    "    def __init__(self, n_embed):\n",
    "        super().__init__()\n",
    "\n",
    "        # Section 3.3: \"The dimentionality of input and output is d_model = 512,\n",
    "        # and the inner-layer has dimensionality d_ff = 2048.\"\n",
    "\n",
    "        self.net = nn.Sequential(\n",
    "            nn.Linear(n_embed, 4 * n_embed),  #\n",
    "            nn.ReLU(),\n",
    "            nn.Linear(4 * n_embed, n_embed),  # Projection\n",
    "        )\n",
    "\n",
    "    def forward(self, x: torch.Tensor) -> torch.Tensor:\n",
    "        return self.net(x)\n",
    "\n",
    "\n",
    "class Block(nn.Module):\n",
    "    def __init__(self, n_embed, n_head) -> None:\n",
    "        super().__init__()\n",
    "\n",
    "        head_size = n_embed // n_head\n",
    "        self.attention = MultiHeadAttention(n_head, head_size)\n",
    "        self.feed_forward = FeedForward(n_embed)\n",
    "        self.ln1 = nn.LayerNorm(n_embed)\n",
    "        self.ln2 = nn.LayerNorm(n_embed)\n",
    "\n",
    "    def forward(self, x: torch.Tensor) -> torch.Tensor:\n",
    "        # 💡 Note the residual connection around the attention and feed-forward layers\n",
    "        x = x + self.attention(self.ln1(x))  # Communication\n",
    "        x = x + self.feed_forward(self.ln2(x))  # Computation\n",
    "        return x\n",
    "\n",
    "\n",
    "class BigramLanguageModel(nn.Module):\n",
    "    def __init__(self):\n",
    "        super().__init__()\n",
    "\n",
    "        self.token_embedding_table = nn.Embedding(vocab_size, n_embed)\n",
    "        self.position_embedding_table = nn.Embedding(block_size, n_embed)\n",
    "        self.blocks = nn.Sequential(\n",
    "            Block(n_embed, n_head=4),\n",
    "            Block(n_embed, n_head=4),\n",
    "            Block(n_embed, n_head=4),\n",
    "            nn.LayerNorm(n_embed),\n",
    "        )\n",
    "        self.lm_head = nn.Linear(n_embed, vocab_size)  # Language modelling head\n",
    "\n",
    "    def forward(self, idx, targets=None):\n",
    "        B, T = idx.shape\n",
    "\n",
    "        # idx and targets are both (B,T) tensor of integers\n",
    "        tok_emb = self.token_embedding_table(idx)  # (B,T,C)\n",
    "        pos_emb = self.position_embedding_table(torch.arange(T))  # (T, C)\n",
    "        x = tok_emb + pos_emb  # Why is `+` the preferred choice here?\n",
    "        x = self.blocks(x)  # (B, T, C)\n",
    "        logits = self.lm_head(x)\n",
    "\n",
    "        if targets is None:  # Targets will be none during inference\n",
    "            loss = None\n",
    "        else:\n",
    "            B, T, C = logits.shape  # Batch, Time, Embedding\n",
    "            logits = logits.view(B * T, C)\n",
    "            targets = targets.view(B * T)\n",
    "            loss = F.cross_entropy(logits, targets)\n",
    "\n",
    "        return logits, loss\n",
    "\n",
    "    def generate(self, idx, max_new_tokens):\n",
    "        # idx is (B, T) array of indices in the current context\n",
    "        for _ in range(max_new_tokens):\n",
    "            # Crop idx to the last block_size tokens\n",
    "            idx_cond = idx[:, -block_size:]\n",
    "            # get the predictions\n",
    "            logits, loss = self(idx_cond)\n",
    "            # focus only on the last time step\n",
    "            logits = logits[:, -1, :]  # becomes (B, C)\n",
    "            # apply softmax to get probabilities\n",
    "            probs = F.softmax(logits, dim=-1)  # (B, C)\n",
    "            # sample from the distribution\n",
    "            idx_next = torch.multinomial(probs, num_samples=1)  # (B, 1)\n",
    "            # append sampled index to the running sequence\n",
    "            idx = torch.cat((idx, idx_next), dim=1)  # (B, T+1)\n",
    "        return idx"
   ]
  },
  {
   "cell_type": "markdown",
   "metadata": {},
   "source": [
    "### Quick test\n"
   ]
  },
  {
   "cell_type": "code",
   "execution_count": 6,
   "metadata": {},
   "outputs": [
    {
     "name": "stdout",
     "output_type": "stream",
     "text": [
      "logits.shape=torch.Size([256, 65])\n",
      "Initial loss: 4.3103\n",
      "\n",
      "?\n",
      "zq:Kj?dWnq;O:$ldJrdsgFhdbisZxksGr'!Q:Nitu-k&M'NgY$ZwrT.\n",
      " Km$PzxZBl'D!y-HxxD\n",
      "h$xF qt;DHta y.ye?3rCo\n"
     ]
    }
   ],
   "source": [
    "torch.manual_seed(1337)\n",
    "xb, yb = get_batch(\"train\")\n",
    "\n",
    "torch.manual_seed(1337)\n",
    "m = BigramLanguageModel()\n",
    "\n",
    "logits, loss = m(xb, yb)\n",
    "print(f\"{logits.shape=}\")\n",
    "print(f\"Initial loss: {loss.item():.4f}\")\n",
    "\n",
    "# fmt: off\n",
    "print(\n",
    "    decode(m.generate(idx=torch.zeros((1, 1), dtype=torch.long), max_new_tokens=100)[0].tolist())\n",
    ")"
   ]
  },
  {
   "cell_type": "markdown",
   "metadata": {},
   "source": [
    "### Training\n"
   ]
  },
  {
   "cell_type": "code",
   "execution_count": 7,
   "metadata": {},
   "outputs": [],
   "source": [
    "optimizer = torch.optim.AdamW(m.parameters(), lr=lr)"
   ]
  },
  {
   "cell_type": "code",
   "execution_count": 8,
   "metadata": {},
   "outputs": [
    {
     "name": "stdout",
     "output_type": "stream",
     "text": [
      "start=4.298405170440674\n"
     ]
    }
   ],
   "source": [
    "losses = []\n",
    "\n",
    "for step in range(max_steps):\n",
    "    # Get a minibatch\n",
    "    xb, yb = get_batch(\"train\")\n",
    "\n",
    "    # Evaluate the loss\n",
    "    logits, loss = m(xb, yb)\n",
    "\n",
    "    losses.append(loss.item())\n",
    "\n",
    "    optimizer.zero_grad(set_to_none=True)\n",
    "    loss.backward()\n",
    "    optimizer.step()\n",
    "\n",
    "    if step == 0:\n",
    "        print(f\"start={loss.item()}\")\n",
    "\n",
    "print(f\"end={loss.item()}\")"
   ]
  },
  {
   "cell_type": "code",
   "execution_count": null,
   "metadata": {},
   "outputs": [
    {
     "data": {
      "image/png": "[encoded data removed]",
      "text/plain": [
       "<Figure size 1000x400 with 2 Axes>"
      ]
     },
     "metadata": {},
     "output_type": "display_data"
    }
   ],
   "source": [
    "fig, (ax1, ax2) = plt.subplots(1, 2, figsize=(10, 4))\n",
    "\n",
    "# Plot losses\n",
    "ax1.plot(losses)\n",
    "ax1.set_title(\"Training Loss\")\n",
    "ax1.set_xlabel(f\"start={losses[0]:.4f}, end={losses[-1]:.4f}\")\n",
    "ax1.set_ylabel(\"Loss\")\n",
    "\n",
    "# Plot rolling\n",
    "rolling = np.convolve(losses, np.ones(10), \"valid\") / 10\n",
    "ax2.plot(rolling)\n",
    "ax2.set_title(\"Smoothed Training Loss\")\n",
    "ax2.set_xlabel(f\"start={losses[0]:.4f}, end={losses[-1]:.4f}\")\n",
    "ax2.set_ylabel(\"Loss\")\n",
    "\n",
    "plt.tight_layout()\n",
    "plt.show()"
   ]
  },
  {
   "cell_type": "markdown",
   "metadata": {},
   "source": [
    "### Inference\n"
   ]
  },
  {
   "cell_type": "code",
   "execution_count": null,
   "metadata": {},
   "outputs": [
    {
     "name": "stdout",
     "output_type": "stream",
     "text": [
      "\n",
      "\n",
      "QUEERLE:\n",
      "His oica's?\n",
      "It hood betoth is miselines;\n",
      "What indo, I ef and my it as which, and our.\n",
      "\n",
      "PETINCE:\n",
      "You conter, towe shall strepy your smierder, I, be ance ast trital by myself a meatter\n",
      "Is fould thed seall; and tell purle;\n",
      "And hom in'\n",
      "Atroher as actold, my me.\n",
      "The, Julties;\n",
      "A Shoffecliy.\n",
      "\n",
      "WINLANUS:\n",
      "Hely? sir his peace to that Nord Ammore I here but wone and take me\n",
      "Toweise,\n",
      "For news.\n",
      "\n",
      "DUKE \n"
     ]
    }
   ],
   "source": [
    "tokens = m.generate(idx=torch.zeros((1, 1), dtype=torch.long), max_new_tokens=400)\n",
    "\n",
    "print(decode(tokens[0].tolist()))"
   ]
  }
 ],
 "metadata": {
  "kernelspec": {
   "display_name": ".venv",
   "language": "python",
   "name": "python3"
  },
  "language_info": {
   "codemirror_mode": {
    "name": "ipython",
    "version": 3
   },
   "file_extension": ".py",
   "mimetype": "text/x-python",
   "name": "python",
   "nbconvert_exporter": "python",
   "pygments_lexer": "ipython3",
   "version": "3.12.4"
  }
 },
 "nbformat": 4,
 "nbformat_minor": 2
}
