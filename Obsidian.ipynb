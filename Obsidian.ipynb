{
 "cells": [
  {
   "cell_type": "code",
   "execution_count": 1,
   "metadata": {},
   "outputs": [],
   "source": [
    "import os\n",
    "import subprocess\n",
    "from datetime import datetime, timezone\n",
    "\n",
    "import matplotlib.pyplot as plt\n",
    "import pandas as pd\n",
    "from transformers import pipeline\n",
    "\n",
    "%matplotlib inline"
   ]
  },
  {
   "cell_type": "code",
   "execution_count": 2,
   "metadata": {},
   "outputs": [],
   "source": [
    "# Sentiment Analysis\n",
    "#\n",
    "# Model:   https://huggingface.co/distilbert/distilbert-base-uncased-finetuned-sst-2-english\n",
    "# Dataset: https://huggingface.co/datasets/stanfordnlp/sst2\n",
    "#\n",
    "# - ⚠️ The data is very different from my notes, so the classifier seems heavily\n",
    "#      biased towards negative label.\n",
    "\n",
    "os.environ[\"TOKENIZERS_PARALLELISM\"] = \"false\"\n",
    "\n",
    "model = \"distilbert/distilbert-base-uncased-finetuned-sst-2-english\"\n",
    "revision = \"af0f99b\"\n",
    "classifier = pipeline(\"sentiment-analysis\", model=model, revision=revision)"
   ]
  },
  {
   "cell_type": "code",
   "execution_count": 3,
   "metadata": {},
   "outputs": [],
   "source": [
    "# This should have been a neutral example, but is negative with high\n",
    "# confidence from this model. My notes have a lot of similar explainers, which\n",
    "# all end up 🟥.\n",
    "\n",
    "example = \"Machine learning rely on non linearities like relu and sigmoid\"\n",
    "result = [{\"label\": \"NEGATIVE\", \"score\": 0.9612146615982056}]\n",
    "assert classifier(example) == result"
   ]
  },
  {
   "cell_type": "code",
   "execution_count": 4,
   "metadata": {},
   "outputs": [],
   "source": [
    "def ctime(root, path, filename):\n",
    "    \"\"\"Guess created timestamp from disk, git and filename\"\"\"\n",
    "\n",
    "    sentinel = datetime.max.replace(tzinfo=timezone.utc)\n",
    "    file_t, git_t, name_t = (sentinel, sentinel, sentinel)\n",
    "\n",
    "    file_t = datetime.fromtimestamp(os.stat(path).st_ctime, tz=timezone.utc)\n",
    "\n",
    "    # Creation time from the oldest commit that introduced the file\n",
    "    cmd = [\n",
    "        \"git\",\n",
    "        \"-C\",\n",
    "        root,\n",
    "        \"log\",\n",
    "        \"-100\",\n",
    "        \"--format=%ai\",\n",
    "        \"--\",\n",
    "        path,\n",
    "    ]\n",
    "    try:\n",
    "        git_ctime_str = subprocess.check_output(cmd).decode(\"utf-8\").split(\"\\n\")[-1]\n",
    "        git_t = datetime.fromisoformat(git_ctime_str)\n",
    "    except ValueError:\n",
    "        pass\n",
    "\n",
    "    formats = [\"%Y-%m-%d %H-%M\", \"%Y-%m-%d\"]\n",
    "    filename = filename.strip(\".md\").strip()\n",
    "    for format in formats:\n",
    "        try:\n",
    "            # THIS TZ IS DEFINITELY SILLY\n",
    "            name_t = datetime.strptime(filename, format).replace(tzinfo=timezone.utc)\n",
    "        except ValueError:\n",
    "            pass\n",
    "\n",
    "    # print(f\"{file_t=} \\n{git_t=} \\n{name_t=}\")\n",
    "\n",
    "    return pd.Timestamp(min([file_t, git_t, name_t]))"
   ]
  },
  {
   "cell_type": "code",
   "execution_count": 5,
   "metadata": {},
   "outputs": [],
   "source": [
    "def read_md_files(directory):\n",
    "    ignore = {\".trash\", \".archive\", \".obsidian\"}\n",
    "\n",
    "    for root, _, files in os.walk(directory):\n",
    "        if not any(i in root for i in ignore):\n",
    "            for file in files:\n",
    "                if file.endswith(\".md\") and (not root.startswith(\".\")):\n",
    "                    path = os.path.join(root, file)\n",
    "                    with open(path, \"r\") as f:\n",
    "                        yield (\n",
    "                            {\n",
    "                                \"name\": file,\n",
    "                                \"path\": path,\n",
    "                                \"contents\": f.read(),\n",
    "                                \"ctime\": ctime(directory, path, file),\n",
    "                            }\n",
    "                        )"
   ]
  },
  {
   "cell_type": "code",
   "execution_count": 6,
   "metadata": {},
   "outputs": [],
   "source": [
    "def line_sentiment(line):\n",
    "    sentiment = classifier(line)\n",
    "    label = sentiment[0][\"label\"]\n",
    "    score = sentiment[0][\"score\"]\n",
    "    return score if label == \"POSITIVE\" else -score\n",
    "\n",
    "\n",
    "def sentiment(r):\n",
    "    emotions = [line_sentiment(line[0:512]) for line in r.contents.split(\"\\n\")]\n",
    "    emotions = pd.Series(emotions)\n",
    "    happy = emotions[emotions > 0]\n",
    "    sad = emotions[emotions < 0]\n",
    "    return happy.prod() if happy.size > sad.size else sad.prod()"
   ]
  },
  {
   "cell_type": "code",
   "execution_count": 7,
   "metadata": {},
   "outputs": [],
   "source": [
    "metadata = read_md_files(\"/Users/j/Work\")\n",
    "df = pd.DataFrame(metadata)\n",
    "df = df.sort_values(by=\"ctime\")"
   ]
  },
  {
   "cell_type": "code",
   "execution_count": 8,
   "metadata": {},
   "outputs": [],
   "source": [
    "df[\"score\"] = df.apply(sentiment, axis=\"columns\")"
   ]
  },
  {
   "cell_type": "code",
   "execution_count": 9,
   "metadata": {},
   "outputs": [
    {
     "data": {
      "text/html": [
       "<div>\n",
       "<style scoped>\n",
       "    .dataframe tbody tr th:only-of-type {\n",
       "        vertical-align: middle;\n",
       "    }\n",
       "\n",
       "    .dataframe tbody tr th {\n",
       "        vertical-align: top;\n",
       "    }\n",
       "\n",
       "    .dataframe thead th {\n",
       "        text-align: right;\n",
       "    }\n",
       "</style>\n",
       "<table border=\"1\" class=\"dataframe\">\n",
       "  <thead>\n",
       "    <tr style=\"text-align: right;\">\n",
       "      <th></th>\n",
       "      <th>score</th>\n",
       "    </tr>\n",
       "    <tr>\n",
       "      <th>ctime</th>\n",
       "      <th></th>\n",
       "    </tr>\n",
       "  </thead>\n",
       "  <tbody>\n",
       "    <tr>\n",
       "      <th>2023-03-06</th>\n",
       "      <td>0.283517</td>\n",
       "    </tr>\n",
       "    <tr>\n",
       "      <th>2023-03-07</th>\n",
       "      <td>-0.394136</td>\n",
       "    </tr>\n",
       "    <tr>\n",
       "      <th>2023-03-08</th>\n",
       "      <td>0.368678</td>\n",
       "    </tr>\n",
       "    <tr>\n",
       "      <th>2023-03-09</th>\n",
       "      <td>0.911394</td>\n",
       "    </tr>\n",
       "    <tr>\n",
       "      <th>2023-03-10</th>\n",
       "      <td>0.742947</td>\n",
       "    </tr>\n",
       "    <tr>\n",
       "      <th>...</th>\n",
       "      <td>...</td>\n",
       "    </tr>\n",
       "    <tr>\n",
       "      <th>2024-04-04</th>\n",
       "      <td>NaN</td>\n",
       "    </tr>\n",
       "    <tr>\n",
       "      <th>2024-04-05</th>\n",
       "      <td>0.822864</td>\n",
       "    </tr>\n",
       "    <tr>\n",
       "      <th>2024-04-06</th>\n",
       "      <td>NaN</td>\n",
       "    </tr>\n",
       "    <tr>\n",
       "      <th>2024-04-07</th>\n",
       "      <td>NaN</td>\n",
       "    </tr>\n",
       "    <tr>\n",
       "      <th>2024-04-08</th>\n",
       "      <td>0.093176</td>\n",
       "    </tr>\n",
       "  </tbody>\n",
       "</table>\n",
       "<p>400 rows × 1 columns</p>\n",
       "</div>"
      ],
      "text/plain": [
       "               score\n",
       "ctime               \n",
       "2023-03-06  0.283517\n",
       "2023-03-07 -0.394136\n",
       "2023-03-08  0.368678\n",
       "2023-03-09  0.911394\n",
       "2023-03-10  0.742947\n",
       "...              ...\n",
       "2024-04-04       NaN\n",
       "2024-04-05  0.822864\n",
       "2024-04-06       NaN\n",
       "2024-04-07       NaN\n",
       "2024-04-08  0.093176\n",
       "\n",
       "[400 rows x 1 columns]"
      ]
     },
     "execution_count": 9,
     "metadata": {},
     "output_type": "execute_result"
    }
   ],
   "source": [
    "df[\"ctime\"] = pd.DatetimeIndex(df[\"ctime\"], tz=\"utc\").tz_localize(None)\n",
    "values = df[[\"ctime\", \"score\"]].set_index(\"ctime\")\n",
    "values = values.resample(\"1d\").mean()\n",
    "values"
   ]
  },
  {
   "cell_type": "code",
   "execution_count": 10,
   "metadata": {},
   "outputs": [
    {
     "data": {
      "image/png": "[encoded data removed]",
      "text/plain": [
       "<Figure size 640x480 with 1 Axes>"
      ]
     },
     "metadata": {},
     "output_type": "display_data"
    }
   ],
   "source": [
    "plt.hist(df[\"score\"].to_numpy())\n",
    "plt.title(\"Weights assigned by model\");"
   ]
  },
  {
   "cell_type": "code",
   "execution_count": 11,
   "metadata": {},
   "outputs": [
    {
     "data": {
      "image/png": "[encoded data removed]",
      "text/plain": [
       "<Figure size 1000x340 with 2 Axes>"
      ]
     },
     "metadata": {},
     "output_type": "display_data"
    }
   ],
   "source": [
    "import calplot\n",
    "\n",
    "calplot.calplot(\n",
    "    values[\"score\"], linewidth=0, cmap=\"RdYlGn\", colorbar=False, dropzero=True\n",
    ");"
   ]
  }
 ],
 "metadata": {
  "kernelspec": {
   "display_name": ".venv",
   "language": "python",
   "name": "python3"
  },
  "language_info": {
   "codemirror_mode": {
    "name": "ipython",
    "version": 3
   },
   "file_extension": ".py",
   "mimetype": "text/x-python",
   "name": "python",
   "nbconvert_exporter": "python",
   "pygments_lexer": "ipython3",
   "version": "3.12.3"
  }
 },
 "nbformat": 4,
 "nbformat_minor": 2
}
