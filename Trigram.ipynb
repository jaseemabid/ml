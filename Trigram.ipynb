{
 "cells": [
  {
   "cell_type": "markdown",
   "metadata": {},
   "source": [
    "## Trigram model with Neural Nets\n"
   ]
  },
  {
   "cell_type": "code",
   "execution_count": 1,
   "metadata": {},
   "outputs": [],
   "source": [
    "import matplotlib.pyplot as plt\n",
    "import torch\n",
    "import torch.nn.functional as F\n",
    "import torch.nn as N\n",
    "\n",
    "%matplotlib inline"
   ]
  },
  {
   "cell_type": "code",
   "execution_count": 2,
   "metadata": {},
   "outputs": [
    {
     "data": {
      "text/plain": [
       "['emma', 'olivia', 'ava']"
      ]
     },
     "execution_count": 2,
     "metadata": {},
     "output_type": "execute_result"
    }
   ],
   "source": [
    "words = open(\"makemore/names.txt\", \"r\").read().splitlines()\n",
    "words[0:3]"
   ]
  },
  {
   "cell_type": "code",
   "execution_count": 3,
   "metadata": {},
   "outputs": [],
   "source": [
    "chars = sorted(list(set(\"\".join(words))))\n",
    "\n",
    "stoi = {s: i + 1 for i, s in enumerate(chars)}\n",
    "stoi[\".\"] = 0\n",
    "itos = {s: i for i, s in stoi.items()}"
   ]
  },
  {
   "cell_type": "code",
   "execution_count": 4,
   "metadata": {},
   "outputs": [
    {
     "name": "stdout",
     "output_type": "stream",
     "text": [
      "xs.shape=torch.Size([196113]), len(xs)=196113, xs.nelement()=196113 tensor([  5, 148, 364, 352,  15])\n",
      "ys.shape=torch.Size([196113]), len(ys)=196113, ys.nelement()=196113 tensor([13, 13,  1,  0, 12])\n",
      "Number of examples=len(xs)=196113\n"
     ]
    }
   ],
   "source": [
    "# create the training set of trigrams (ab, y)\n",
    "xs, ys = [], []\n",
    "\n",
    "for w in words:\n",
    "    chs = [\".\"] + list(w) + [\".\"]\n",
    "    for ch1, ch2, ch3 in zip(chs, chs[1:], chs[2:]):\n",
    "\n",
    "        # ix1 = stoi[f\"{ch1}{ch2}\"]\n",
    "        ix1 = stoi[ch1]\n",
    "        ix2 = stoi[ch2]\n",
    "        ix3 = stoi[ch3]\n",
    "        # print(f\"{ch1}{ch2}  -> {ch3}\")\n",
    "        xs.append((ix1 * 27) + ix2)\n",
    "        ys.append(ix3)\n",
    "\n",
    "xs = torch.tensor(xs)\n",
    "ys = torch.tensor(ys)\n",
    "\n",
    "print(f\"{xs.shape=}, {len(xs)=}, {xs.nelement()=} {xs[0:5]}\")\n",
    "print(f\"{ys.shape=}, {len(ys)=}, {ys.nelement()=} {ys[0:5]}\")\n",
    "print(f\"Number of examples={len(xs)=}\")"
   ]
  },
  {
   "cell_type": "code",
   "execution_count": 5,
   "metadata": {},
   "outputs": [
    {
     "name": "stdout",
     "output_type": "stream",
     "text": [
      "W3.shape=torch.Size([729, 27])\n"
     ]
    }
   ],
   "source": [
    "g = torch.Generator().manual_seed(2147483647)\n",
    "# TODO: Unsure what the shape of W should be.\n",
    "W3 = torch.randn((27 * 27, 27), generator=g, requires_grad=True)\n",
    "\n",
    "print(f\"{W3.shape=}\")"
   ]
  },
  {
   "cell_type": "code",
   "execution_count": 6,
   "metadata": {},
   "outputs": [
    {
     "name": "stdout",
     "output_type": "stream",
     "text": [
      "loss=3.72312331199646\n",
      "loss=3.647545576095581\n",
      "loss=3.5766525268554688\n",
      "loss=3.510436534881592\n",
      "loss=3.4489150047302246\n",
      "loss=3.392056703567505\n",
      "loss=3.339740037918091\n",
      "loss=3.291738271713257\n",
      "loss=3.2477333545684814\n",
      "loss=3.2073419094085693\n",
      "loss=3.1701550483703613\n",
      "loss=3.13577938079834\n",
      "loss=3.1038622856140137\n",
      "loss=3.074103593826294\n",
      "loss=3.0462541580200195\n",
      "loss=3.0201098918914795\n",
      "loss=2.9955015182495117\n",
      "loss=2.972287893295288\n",
      "loss=2.9503493309020996\n",
      "loss=2.929582118988037\n",
      "loss=2.9098961353302\n",
      "loss=2.891211986541748\n",
      "loss=2.873457431793213\n",
      "loss=2.85657000541687\n",
      "loss=2.8404905796051025\n",
      "loss=2.8251657485961914\n",
      "loss=2.8105475902557373\n",
      "loss=2.796590566635132\n",
      "loss=2.7832517623901367\n",
      "loss=2.7704930305480957\n",
      "loss=2.758277177810669\n",
      "loss=2.7465696334838867\n",
      "loss=2.7353382110595703\n",
      "loss=2.724552631378174\n",
      "loss=2.7141852378845215\n",
      "loss=2.7042088508605957\n",
      "loss=2.6946001052856445\n",
      "loss=2.685336112976074\n",
      "loss=2.6763956546783447\n",
      "loss=2.667760133743286\n",
      "loss=2.6594111919403076\n",
      "loss=2.6513326168060303\n",
      "loss=2.6435093879699707\n",
      "loss=2.635927438735962\n",
      "loss=2.6285736560821533\n",
      "loss=2.621436357498169\n",
      "loss=2.614504337310791\n",
      "loss=2.6077678203582764\n",
      "loss=2.6012167930603027\n",
      "loss=2.5948431491851807\n",
      "loss=2.5886378288269043\n",
      "loss=2.5825939178466797\n",
      "loss=2.576704263687134\n",
      "loss=2.5709619522094727\n",
      "loss=2.5653605461120605\n",
      "loss=2.5598950386047363\n",
      "loss=2.554558753967285\n",
      "loss=2.5493476390838623\n",
      "loss=2.5442562103271484\n",
      "loss=2.5392799377441406\n",
      "loss=2.5344150066375732\n",
      "loss=2.5296573638916016\n",
      "loss=2.5250022411346436\n",
      "loss=2.520446538925171\n",
      "loss=2.5159871578216553\n",
      "loss=2.511620283126831\n",
      "loss=2.507343292236328\n",
      "loss=2.50315260887146\n",
      "loss=2.4990463256835938\n",
      "loss=2.495020627975464\n",
      "loss=2.491074323654175\n",
      "loss=2.48720383644104\n",
      "loss=2.4834072589874268\n",
      "loss=2.479682683944702\n",
      "loss=2.476027488708496\n",
      "loss=2.472439765930176\n",
      "loss=2.4689173698425293\n",
      "loss=2.4654593467712402\n",
      "loss=2.4620630741119385\n",
      "loss=2.4587271213531494\n",
      "loss=2.4554495811462402\n",
      "loss=2.4522290229797363\n",
      "loss=2.449063777923584\n",
      "loss=2.445952892303467\n",
      "loss=2.442894458770752\n",
      "loss=2.439887523651123\n",
      "loss=2.4369304180145264\n",
      "loss=2.4340219497680664\n",
      "loss=2.4311604499816895\n",
      "loss=2.4283456802368164\n",
      "loss=2.4255759716033936\n",
      "loss=2.4228503704071045\n",
      "loss=2.4201674461364746\n",
      "loss=2.417527198791504\n",
      "loss=2.4149272441864014\n",
      "loss=2.412367582321167\n",
      "loss=2.409846544265747\n",
      "loss=2.4073636531829834\n",
      "loss=2.404918670654297\n",
      "loss=2.4025096893310547\n"
     ]
    }
   ],
   "source": [
    "# Gradient descent\n",
    "losses = []\n",
    "\n",
    "for i in range(100):\n",
    "\n",
    "    # Forward pass\n",
    "    xenc = F.one_hot(xs, num_classes=27**2).float()  # One hot encoded inputs.\n",
    "    logits = xenc @ W3  # log(counts)\n",
    "    counts = logits.exp()  # counts, [0, +Inf]\n",
    "    probs = counts / counts.sum(1, keepdim=True)  # Normalised probability with softmax.\n",
    "\n",
    "    # Notes on sizes\n",
    "    assert xenc.shape == (len(xs), 729)  # 729 dim one hot vector for each input\n",
    "    assert logits.shape == (len(xs), 27)  # 27 log(count) for each input. ⁉️ Is this right?\n",
    "    assert counts.shape == (len(xs), 27)  # 27 count for each input. ⁉️ Is this right?\n",
    "\n",
    "    # For each input pair in xs, pluck label from ys to compute Negative Log Likelihood\n",
    "    # NOTE: This array indexing here is impressively terse across 2 dimensions.\n",
    "    nll = -probs[torch.arange(len(xs)), ys].log().mean()\n",
    "\n",
    "    # Regularization loss\n",
    "    # reg = 0.01 * W3.pow(2).mean()\n",
    "\n",
    "    loss = nll  # + reg\n",
    "\n",
    "    losses.append(loss.item())\n",
    "    print(f\"loss={loss.item()}\")\n",
    "\n",
    "    # Backward pass\n",
    "    W3.grad = None\n",
    "    loss.backward()\n",
    "\n",
    "    # Update weights\n",
    "    W3.data += -50 * W3.grad"
   ]
  },
  {
   "cell_type": "code",
   "execution_count": 7,
   "metadata": {},
   "outputs": [
    {
     "name": "stdout",
     "output_type": "stream",
     "text": [
      "start=3.7231, end=2.4025\n"
     ]
    },
    {
     "data": {
      "image/png": "[encoded data removed]",
      "text/plain": [
       "<Figure size 640x480 with 1 Axes>"
      ]
     },
     "metadata": {},
     "output_type": "display_data"
    }
   ],
   "source": [
    "plt.plot(losses)\n",
    "plt.title(f\"Loss for a trigram model\")\n",
    "plt.xlabel(f\"start={losses[0]:.4f}, end={losses[-1]:.4f}\")\n",
    "\n",
    "# The expected loss at the end of training should be close to the mean loss calculated earlier\n",
    "print(f\"start={losses[0]:.4f}, end={losses[-1]:.4f}\")"
   ]
  },
  {
   "cell_type": "markdown",
   "metadata": {},
   "source": [
    "**WARNING ⚠️ Notes on the probability distribution**\n",
    "\n",
    "-   Not entirely sure if this visualization is right, but the prob distribution DEFINITELY LOOKS WRONG.\n",
    "-   This looks nothing like the input dataset.\n",
    "-   Some values are > 100, which is wrong.\n",
    "-   Sampled output is garbage, so something went wrong before this point and I don't know what.\n"
   ]
  },
  {
   "cell_type": "code",
   "execution_count": 8,
   "metadata": {},
   "outputs": [],
   "source": [
    "P3 = W3 / W3.sum(1, keepdim=True)  # torch.Size([196113, 2, 27])\n",
    "\n",
    "scale = 8\n",
    "plt.figure(figsize=(32 * scale, 64 * scale))\n",
    "plt.imshow(P3.detach().numpy(), cmap=\"Blues\")\n",
    "plt.axis(\"off\")\n",
    "\n",
    "for a in range(27):\n",
    "    for b in range(27):\n",
    "        for c in range(27):\n",
    "            chstr = itos[a] + itos[b] + itos[c]\n",
    "            row = (a * 27) + b\n",
    "            w = f\"{P3[row , c].item():.1f}%\"\n",
    "            plt.text(c, row, chstr, ha=\"center\", va=\"bottom\", color=\"gray\")\n",
    "            plt.text(c, row, w, ha=\"center\", va=\"top\", color=\"gray\")"
   ]
  },
  {
   "cell_type": "code",
   "execution_count": null,
   "metadata": {},
   "outputs": [
    {
     "name": "stdout",
     "output_type": "stream",
     "text": [
      "zexzdfzjglkuriana.\n",
      "otxhkmvlzimjtna.\n",
      "orlkfdkzka.\n",
      "oa.\n",
      "zacxyhbbpwkhrigotwxezgzjeqkgxojkwptedagkkjer.\n",
      "zasidey.\n",
      "nkgvnrnfrftbspmhwcjdenvtahlvsuznsdrxdlngil.\n",
      "pynw.\n",
      "istnj.\n",
      "opfdnie.\n"
     ]
    }
   ],
   "source": [
    "# Sample from trigram NN\n",
    "# THIS IS ALMOST CERTAINLY WRONG.\n",
    "\n",
    "g = torch.Generator().manual_seed(2147483647)\n",
    "\n",
    "for i in range(10):\n",
    "\n",
    "    out = []\n",
    "    ix1, ix2 = 0, 0\n",
    "    while True:\n",
    "        xenc = F.one_hot(torch.tensor([(ix1 * 27) + ix2]), num_classes=27 * 27).float()\n",
    "        # xenc = xenc.reshape((1, -1))\n",
    "        logits = xenc @ W3\n",
    "        counts = logits.exp()\n",
    "        probs = counts / counts.sum(1, keepdims=True)\n",
    "\n",
    "        ix1 = ix2\n",
    "        ix2 = torch.multinomial(probs, num_samples=1, replacement=True, generator=g).item()\n",
    "        out.append(itos[ix2])\n",
    "        if ix2 == 0:\n",
    "            break\n",
    "    print(\"\".join(out))"
   ]
  }
 ],
 "metadata": {
  "language_info": {
   "name": "python"
  }
 },
 "nbformat": 4,
 "nbformat_minor": 2
}
